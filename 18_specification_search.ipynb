{
 "cells": [
  {
   "cell_type": "markdown",
   "id": "7b8975c4",
   "metadata": {},
   "source": [
    "# Specification Search\n",
    "\n",
    "### Luc Anselin\n",
    "\n",
    "### (revised 10/18/2024)\n"
   ]
  },
  {
   "cell_type": "markdown",
   "id": "4cfd0985",
   "metadata": {},
   "source": [
    "## Preliminaries\n",
    "\n",
    "This notebook reviews five different strategies for a spatial regression model specification search, following the principles outlined in Anselin, Serenini and Amaral (2024) *Spatial Econometric Model Specification Search: Another Look* (DOI: 10.13140/RG.2.2.10650.86721). Three strategies are forward search strategies, from specific to general (STGE), and two are backward search strategies, from general to specific (GETS). They are based on a range of Lagrange Multiplier test statistics as well as simple asymptotic t-tests on the significance of the spatial parameters.\n",
    "\n",
    "### Prerequisites\n",
    "\n",
    "Familiarity with OLS estimation in *spreg* is assumed, as well as basics of *numpy*, *pandas*, *geopandas*, and *libpysal*. In addition, it is assumed that the **chicagoSDOH** PySAL sample data set has been installed."
   ]
  },
  {
   "cell_type": "markdown",
   "id": "d8a50738",
   "metadata": {},
   "source": [
    "### Modules Needed\n",
    "\n",
    "The main module for spatial regression in PySAL is *spreg*. In addition *libpysal* is needed for data import and spatial weights manipulation, and *geopandas* for data input from a shape file. This notebook is based on version 1.8 of *spreg*. \n",
    "\n",
    "As before, only the needed functions from *libpysal* are imported, i.e., `libpysal.io.open` as `open`, `libpysal.examples.get_path` as `get_path`, and `libpysal.weights` as `weights`. The `OLS`, `GM_Lag` and `spsearch` modules are imported from `spreg`.\n",
    "\n",
    "Some additional imports are included to avoid excessive warning messages. With later versions of PySAL, these may not be needed. As before, the `set_printoptions` is used for *numpy* 2.0 and later."
   ]
  },
  {
   "cell_type": "code",
   "execution_count": 1,
   "id": "e398e42f",
   "metadata": {
    "scrolled": true
   },
   "outputs": [],
   "source": [
    "import warnings\n",
    "warnings.filterwarnings(\"ignore\")\n",
    "import os\n",
    "os.environ['USE_PYGEOS'] = '0'\n",
    "\n",
    "import numpy as np\n",
    "import pandas as pd\n",
    "import geopandas as gpd\n",
    "from libpysal.io import open\n",
    "from libpysal.examples import get_path\n",
    "import libpysal.weights as weights\n",
    "from spreg import OLS, GM_Lag, spsearch\n",
    "np.set_printoptions(legacy=\"1.25\")"
   ]
  },
  {
   "cell_type": "markdown",
   "id": "1ac85fb3",
   "metadata": {},
   "source": [
    "### Functionality Used\n",
    "\n",
    "- from geopandas:\n",
    "  - read_file\n",
    "  \n",
    "- from libpysal:\n",
    "  - examples.get_path\n",
    "  - io.open\n",
    "  - weights.transform\n",
    "  \n",
    "- from spreg:\n",
    "  - OLS\n",
    "  - GM_Lag\n",
    "  - spsearch.stge_classic\n",
    "  - spsearch.stge_kb\n",
    "  - spsearch.stge_pre\n",
    "  - spsearch.gets_gns\n",
    "  - spsearch.gets_sdm\n"
   ]
  },
  {
   "cell_type": "markdown",
   "id": "b34442e2",
   "metadata": {},
   "source": [
    "### Data, Weights and Variables"
   ]
  },
  {
   "cell_type": "markdown",
   "id": "effd05a4",
   "metadata": {},
   "source": [
    "As in the previous notebooks, all data sets, weights files and variables are specified at the top, so that they can be easily changed to other examples.\n",
    "\n",
    "Data sets and weights are from the **chicagoSDOH** sample data set:\n",
    "\n",
    "- **Chi-SDOH.shp,shx,dbf,prj**: socio-economic indicators of health for 2014 in 791 Chicago tracts\n",
    "- **Chi-SDOH_q.gal**: queen contiguity spatial weights created with *GeoDa*\n",
    "\n",
    "The weights are used in row-standardized form.\n",
    "\n",
    "The initial model specification has **YPLL_rate** (an index measuring premature mortality, i.e., higher values are worse health outcomes) as the dependent variable, and **HIS_ct** (economic hardship index), **Blk14P** (percent Black population), and **Hisp14P** \n",
    "(percent Hispanic population) as the explanatory variables. These are specified in the **y_name** etc. variables, \n",
    "\n",
    "The various initializations are carried out in two steps:\n",
    "\n",
    "- first, all file names and variable names are defined\n",
    "- second, the files are read and variable vectors/matrices constructed\n",
    "\n",
    "The first step allows for customization to other examples, the second step is agnostic to the actual files and variables that were specified. To keep the code simple, there are no error checks for missing files or mismatches in the variable names."
   ]
  },
  {
   "cell_type": "markdown",
   "id": "829cca11",
   "metadata": {},
   "source": [
    "#### Specify file and variable names"
   ]
  },
  {
   "cell_type": "code",
   "execution_count": 2,
   "id": "fc2dba41",
   "metadata": {},
   "outputs": [],
   "source": [
    "infileshp = get_path(\"Chi-SDOH.shp\")            # input shape file with data\n",
    "infileq = get_path(\"Chi-SDOH_q.gal\")            # queen contiguity weights from GeoDa\n",
    "y_name = 'YPLL_rate'\n",
    "x_names = ['Blk14P','Hisp14P','HIS_ct']\n",
    "ds_name = 'Chi-SDOH'\n",
    "w_name = 'Chi-SDOH_q'"
   ]
  },
  {
   "cell_type": "markdown",
   "id": "91648058",
   "metadata": {},
   "source": [
    "#### Read files and extract variables"
   ]
  },
  {
   "cell_type": "code",
   "execution_count": 3,
   "id": "4103013d",
   "metadata": {},
   "outputs": [],
   "source": [
    "dfs = gpd.read_file(infileshp)\n",
    "wq =  open(infileq).read()    # queen contiguity weights\n",
    "wq.transform = 'r'    # row-transform the weights\n",
    "y = dfs[y_name]\n",
    "x = dfs[x_names]"
   ]
  },
  {
   "cell_type": "markdown",
   "id": "92c357d7",
   "metadata": {},
   "source": [
    "### Baseline regression\n",
    "\n",
    "For easy reference, the results of the base OLS regression are listed as well, without any diagnostics."
   ]
  },
  {
   "cell_type": "code",
   "execution_count": 5,
   "id": "32ddda8d",
   "metadata": {},
   "outputs": [
    {
     "name": "stdout",
     "output_type": "stream",
     "text": [
      "REGRESSION RESULTS\n",
      "------------------\n",
      "\n",
      "SUMMARY OF OUTPUT: ORDINARY LEAST SQUARES\n",
      "-----------------------------------------\n",
      "Data set            :    Chi-SDOH\n",
      "Weights matrix      :        None\n",
      "Dependent Variable  :   YPLL_rate                Number of Observations:         791\n",
      "Mean dependent var  :   5017.1325                Number of Variables   :           4\n",
      "S.D. dependent var  :   3161.3278                Degrees of Freedom    :         787\n",
      "R-squared           :      0.6330\n",
      "Adjusted R-squared  :      0.6316\n",
      "\n",
      "------------------------------------------------------------------------------------\n",
      "            Variable     Coefficient       Std.Error     t-Statistic     Probability\n",
      "------------------------------------------------------------------------------------\n",
      "            CONSTANT       938.33431       217.72938         4.30964         0.00002\n",
      "              Blk14P        42.09396         3.49108        12.05757         0.00000\n",
      "             Hisp14P       -14.55534         4.43781        -3.27985         0.00108\n",
      "              HIS_ct        72.72870         8.96613         8.11149         0.00000\n",
      "------------------------------------------------------------------------------------\n",
      "================================ END OF REPORT =====================================\n"
     ]
    }
   ],
   "source": [
    "reg1 = OLS(y,x,name_ds=ds_name,\n",
    "           nonspat_diag=False)\n",
    "print(reg1.summary)"
   ]
  },
  {
   "cell_type": "markdown",
   "id": "d5677b98",
   "metadata": {},
   "source": [
    "## STGE-Classic"
   ]
  },
  {
   "cell_type": "markdown",
   "id": "6a174d10",
   "metadata": {},
   "source": [
    "The first forward strategy, the Classic Specific-to-General (STGE-Classic), is based on the application of the Lagrange Multiplier tests for\n",
    "the lag and error alternatives and their robust counterparts.\n",
    "\n",
    "The logic is a slight adjustment to the flow chart presented in Figure 5.1 on p. 110 of Anselin and Rey (2014). It is augmented with the AK test for\n",
    "remaining spatial autocorrelation in a spatial lag model. \n",
    "\n",
    "The specification search is based on the results of a non-spatial\n",
    "OLS regression and consists of the following steps:\n",
    "- compute $LM_{\\rho}$ and $LM_{\\lambda}$: if none are significant, stick with the classic non-spatial regression (for simplicity, hereafter referred to as OLS); if one is significant and the other is not, select that alternative (Lag\n",
    "or Error); if both are significant, move to the next step\n",
    "- compute the robust versions $LM_{\\rho}^*$ and $LM_{\\lambda}^*$: if one is significant and the\n",
    "other is not, go with that alternative; if both are significant, move to the next step\n",
    "- estimate a spatial lag model (i.e., including $Wy$) by means of Spatial 2SLS and compute the AK test for remaining error autocorrelation: if the latter is significant, then the alternative is SAR-Error, otherwise it is Lag.\n",
    "\n",
    "The last step is an addition to the original flow chart. As it turns out, in empirical practice, the situation where both robust tests remain significant occurs quite frequently (especially with larger data sets), which\n",
    "leaves the orginal specification search unresolved. The AK test is preferred over the joint $LM_{\\rho\\lambda}$ test since the latter tends to over-reject the null, even when only one spatial parameter is significant.\n",
    "\n",
    "Importantly, the STGE-Classic logic does not consider the spatial Durbin model as an alternative, and thus\n",
    "it cannot detect SLX, SDM, SLX-Error or GNS.\n",
    "\n",
    "This strategy is invoked as `spsearch.stge_classic`. The return value is a tuple with the final model and a regression object for the final model. Three required arguments are `y`, `x` and `w`. The other general optional arguments are the same as for a standard regression, e.g., `robust`, `w_lags` and `sig2n_k`.\n",
    "\n",
    "Three important special optional arguments are `p_value`, set to 0.01 as the default, `finmod`, a flag for the estimation of the final model (default `True`), and `mprint`, a flag for listing the output summary of the final model (default `True`). With the default values for these arguments, the call yields the final model selected and the summary output."
   ]
  },
  {
   "cell_type": "code",
   "execution_count": 7,
   "id": "f267c150",
   "metadata": {},
   "outputs": [
    {
     "name": "stdout",
     "output_type": "stream",
     "text": [
      "Model selected by STGE-Classic: LAG\n",
      "REGRESSION RESULTS\n",
      "------------------\n",
      "\n",
      "SUMMARY OF OUTPUT: SPATIAL TWO STAGE LEAST SQUARES\n",
      "--------------------------------------------------\n",
      "Data set            :    Chi-SDOH\n",
      "Weights matrix      :  Chi-SDOH_q\n",
      "Dependent Variable  :   YPLL_rate                Number of Observations:         791\n",
      "Mean dependent var  :   5017.1325                Number of Variables   :           5\n",
      "S.D. dependent var  :   3161.3278                Degrees of Freedom    :         786\n",
      "Pseudo R-squared    :      0.6374\n",
      "Spatial Pseudo R-squared:  0.6334\n",
      "\n",
      "------------------------------------------------------------------------------------\n",
      "            Variable     Coefficient       Std.Error     z-Statistic     Probability\n",
      "------------------------------------------------------------------------------------\n",
      "            CONSTANT       676.18274       253.42997         2.66812         0.00763\n",
      "              Blk14P        34.93664         5.01195         6.97067         0.00000\n",
      "             Hisp14P       -13.23575         4.45038        -2.97407         0.00294\n",
      "              HIS_ct        62.74434        10.22708         6.13512         0.00000\n",
      "         W_YPLL_rate         0.17663         0.08945         1.97453         0.04832\n",
      "------------------------------------------------------------------------------------\n",
      "Instrumented: W_YPLL_rate\n",
      "Instruments: W2_Blk14P, W2_HIS_ct, W2_Hisp14P, W_Blk14P, W_HIS_ct, W_Hisp14P\n",
      "\n",
      "DIAGNOSTICS FOR SPATIAL DEPENDENCE\n",
      "TEST                              DF         VALUE           PROB\n",
      "Anselin-Kelejian Test             1          0.306           0.5804\n",
      "\n",
      "SPATIAL LAG MODEL IMPACTS\n",
      "Impacts computed using the 'simple' method.\n",
      "            Variable         Direct        Indirect          Total\n",
      "              Blk14P        34.9366          7.4945         42.4312\n",
      "             Hisp14P       -13.2357         -2.8393        -16.0750\n",
      "              HIS_ct        62.7443         13.4598         76.2041\n",
      "================================ END OF REPORT =====================================\n"
     ]
    }
   ],
   "source": [
    "mod, finreg = spsearch.stge_classic(y,x,w=wq,\n",
    "                        name_ds=ds_name,name_w=w_name)"
   ]
  },
  {
   "cell_type": "markdown",
   "id": "14271098",
   "metadata": {},
   "source": [
    "The model selected is LAG, although the spatial autoregressive coefficient is only marginally significant."
   ]
  },
  {
   "cell_type": "markdown",
   "id": "0fa5663e",
   "metadata": {},
   "source": [
    "### Steps in the decision tree\n",
    "\n",
    "To illustrate the logic of this approach, each step in the process is illustrated, starting with the OLS regression with spatial diagnostics."
   ]
  },
  {
   "cell_type": "code",
   "execution_count": 8,
   "id": "4f575fb0",
   "metadata": {},
   "outputs": [
    {
     "name": "stdout",
     "output_type": "stream",
     "text": [
      "REGRESSION RESULTS\n",
      "------------------\n",
      "\n",
      "SUMMARY OF OUTPUT: ORDINARY LEAST SQUARES\n",
      "-----------------------------------------\n",
      "Data set            :    Chi-SDOH\n",
      "Weights matrix      :  Chi-SDOH_q\n",
      "Dependent Variable  :   YPLL_rate                Number of Observations:         791\n",
      "Mean dependent var  :   5017.1325                Number of Variables   :           4\n",
      "S.D. dependent var  :   3161.3278                Degrees of Freedom    :         787\n",
      "R-squared           :      0.6330\n",
      "Adjusted R-squared  :      0.6316\n",
      "Sum squared residual: 2.89733e+09                F-statistic           :    452.5271\n",
      "Sigma-square        : 3681490.057                Prob(F-statistic)     :  8.593e-171\n",
      "S.E. of regression  :    1918.721                Log likelihood        :   -7099.872\n",
      "Sigma-square ML     : 3662873.167                Akaike info criterion :   14207.744\n",
      "S.E of regression ML:   1913.8634                Schwarz criterion     :   14226.437\n",
      "\n",
      "------------------------------------------------------------------------------------\n",
      "            Variable     Coefficient       Std.Error     t-Statistic     Probability\n",
      "------------------------------------------------------------------------------------\n",
      "            CONSTANT       938.33431       217.72938         4.30964         0.00002\n",
      "              Blk14P        42.09396         3.49108        12.05757         0.00000\n",
      "             Hisp14P       -14.55534         4.43781        -3.27985         0.00108\n",
      "              HIS_ct        72.72870         8.96613         8.11149         0.00000\n",
      "------------------------------------------------------------------------------------\n",
      "\n",
      "REGRESSION DIAGNOSTICS\n",
      "MULTICOLLINEARITY CONDITION NUMBER          11.675\n",
      "\n",
      "TEST ON NORMALITY OF ERRORS\n",
      "TEST                             DF        VALUE           PROB\n",
      "Jarque-Bera                       2      12307.832           0.0000\n",
      "\n",
      "DIAGNOSTICS FOR HETEROSKEDASTICITY\n",
      "RANDOM COEFFICIENTS\n",
      "TEST                             DF        VALUE           PROB\n",
      "Breusch-Pagan test                3        314.231           0.0000\n",
      "Koenker-Bassett test              3         30.217           0.0000\n",
      "\n",
      "DIAGNOSTICS FOR SPATIAL DEPENDENCE\n",
      "- SARERR -\n",
      "TEST                              DF       VALUE           PROB\n",
      "Lagrange Multiplier (lag)         1          7.235           0.0071\n",
      "Robust LM (lag)                   1          1.624           0.2026\n",
      "Lagrange Multiplier (error)       1          5.705           0.0169\n",
      "Robust LM (error)                 1          0.094           0.7592\n",
      "Lagrange Multiplier (SARMA)       2          7.329           0.0256\n",
      "\n",
      "- Spatial Durbin -\n",
      "TEST                              DF       VALUE           PROB\n",
      "LM test for WX                    3         19.271           0.0002\n",
      "Robust LM WX test                 3         17.742           0.0005\n",
      "Lagrange Multiplier (lag)         1          7.235           0.0071\n",
      "Robust LM Lag - SDM               1          5.705           0.0169\n",
      "Joint test for SDM                4         24.977           0.0001\n",
      "================================ END OF REPORT =====================================\n"
     ]
    }
   ],
   "source": [
    "reg2 = OLS(y,x,w=wq,spat_diag=True,\n",
    "           name_ds=ds_name,name_w=w_name)\n",
    "print(reg2.summary)"
   ]
  },
  {
   "cell_type": "markdown",
   "id": "41383c7e",
   "metadata": {},
   "source": [
    "Since the `p_value` was set to 0.01, the initial LM-tests point to a Lag alternative, since LM-Lag has p=0.0071, but LM-Error only achieves p=0.0169. Therefore, the next step is to estimate a spatial lag model and carry out the AK test."
   ]
  },
  {
   "cell_type": "code",
   "execution_count": 9,
   "id": "1073291f",
   "metadata": {},
   "outputs": [
    {
     "name": "stdout",
     "output_type": "stream",
     "text": [
      "REGRESSION RESULTS\n",
      "------------------\n",
      "\n",
      "SUMMARY OF OUTPUT: SPATIAL TWO STAGE LEAST SQUARES\n",
      "--------------------------------------------------\n",
      "Data set            :    Chi-SDOH\n",
      "Weights matrix      :  Chi-SDOH_q\n",
      "Dependent Variable  :   YPLL_rate                Number of Observations:         791\n",
      "Mean dependent var  :   5017.1325                Number of Variables   :           5\n",
      "S.D. dependent var  :   3161.3278                Degrees of Freedom    :         786\n",
      "Pseudo R-squared    :      0.6374\n",
      "Spatial Pseudo R-squared:  0.6334\n",
      "\n",
      "------------------------------------------------------------------------------------\n",
      "            Variable     Coefficient       Std.Error     z-Statistic     Probability\n",
      "------------------------------------------------------------------------------------\n",
      "            CONSTANT       676.18274       253.42997         2.66812         0.00763\n",
      "              Blk14P        34.93664         5.01195         6.97067         0.00000\n",
      "             Hisp14P       -13.23575         4.45038        -2.97407         0.00294\n",
      "              HIS_ct        62.74434        10.22708         6.13512         0.00000\n",
      "         W_YPLL_rate         0.17663         0.08945         1.97453         0.04832\n",
      "------------------------------------------------------------------------------------\n",
      "Instrumented: W_YPLL_rate\n",
      "Instruments: W2_Blk14P, W2_HIS_ct, W2_Hisp14P, W_Blk14P, W_HIS_ct, W_Hisp14P\n",
      "\n",
      "DIAGNOSTICS FOR SPATIAL DEPENDENCE\n",
      "TEST                              DF         VALUE           PROB\n",
      "Anselin-Kelejian Test             1          0.306           0.5804\n",
      "\n",
      "SPATIAL LAG MODEL IMPACTS\n",
      "Impacts computed using the 'simple' method.\n",
      "            Variable         Direct        Indirect          Total\n",
      "              Blk14P        34.9366          7.4945         42.4312\n",
      "             Hisp14P       -13.2357         -2.8393        -16.0750\n",
      "              HIS_ct        62.7443         13.4598         76.2041\n",
      "================================ END OF REPORT =====================================\n"
     ]
    }
   ],
   "source": [
    "reg3 = GM_Lag(y,x,w=wq,spat_diag=True,w_lags=2,\n",
    "              name_ds=ds_name,name_w=w_name)\n",
    "print(reg3.summary)"
   ]
  },
  {
   "cell_type": "markdown",
   "id": "29df5821",
   "metadata": {},
   "source": [
    "In this example, the AK-test is not significant, hence the final model is the LAG specification."
   ]
  },
  {
   "cell_type": "markdown",
   "id": "f6b6286b",
   "metadata": {},
   "source": [
    "### P-value\n",
    "\n",
    "To assess the sensitivity of the result to the p-value used as the decision criterion, `p_value` is set to 0.05."
   ]
  },
  {
   "cell_type": "code",
   "execution_count": 10,
   "id": "1adc32b1",
   "metadata": {},
   "outputs": [
    {
     "name": "stdout",
     "output_type": "stream",
     "text": [
      "Model selected by STGE-Classic: LAG_Nr\n",
      "REGRESSION RESULTS\n",
      "------------------\n",
      "\n",
      "SUMMARY OF OUTPUT: SPATIAL TWO STAGE LEAST SQUARES\n",
      "--------------------------------------------------\n",
      "Data set            :    Chi-SDOH\n",
      "Weights matrix      :       False\n",
      "Dependent Variable  :   YPLL_rate                Number of Observations:         791\n",
      "Mean dependent var  :   5017.1325                Number of Variables   :           5\n",
      "S.D. dependent var  :   3161.3278                Degrees of Freedom    :         786\n",
      "Pseudo R-squared    :      0.6374\n",
      "Spatial Pseudo R-squared:  0.6334\n",
      "\n",
      "------------------------------------------------------------------------------------\n",
      "            Variable     Coefficient       Std.Error     z-Statistic     Probability\n",
      "------------------------------------------------------------------------------------\n",
      "            CONSTANT       676.18274       253.42997         2.66812         0.00763\n",
      "              Blk14P        34.93664         5.01195         6.97067         0.00000\n",
      "             Hisp14P       -13.23575         4.45038        -2.97407         0.00294\n",
      "              HIS_ct        62.74434        10.22708         6.13512         0.00000\n",
      "         W_YPLL_rate         0.17663         0.08945         1.97453         0.04832\n",
      "------------------------------------------------------------------------------------\n",
      "Instrumented: W_YPLL_rate\n",
      "Instruments: W2_Blk14P, W2_HIS_ct, W2_Hisp14P, W_Blk14P, W_HIS_ct, W_Hisp14P\n",
      "\n",
      "DIAGNOSTICS FOR SPATIAL DEPENDENCE\n",
      "TEST                              DF         VALUE           PROB\n",
      "Anselin-Kelejian Test             1          0.306           0.5804\n",
      "\n",
      "SPATIAL LAG MODEL IMPACTS\n",
      "Impacts computed using the 'simple' method.\n",
      "            Variable         Direct        Indirect          Total\n",
      "              Blk14P        34.9366          7.4945         42.4312\n",
      "             Hisp14P       -13.2357         -2.8393        -16.0750\n",
      "              HIS_ct        62.7443         13.4598         76.2041\n",
      "================================ END OF REPORT =====================================\n"
     ]
    }
   ],
   "source": [
    "mod, finreg = spsearch.stge_classic(y,x,w=wq,name_ds=ds_name,\n",
    "                      p_value=0.05)"
   ]
  },
  {
   "cell_type": "markdown",
   "id": "10e58afb",
   "metadata": {},
   "source": [
    "Again, the end result is a LAG specification, but it is achieved via the LAG_Nr route. This is when both initial LM tests are significant (LM-Error becomes significant for p=0.05), but neither of the robust ones are. Then the decision tree takes the least insignificant of the two, in this case LAG."
   ]
  },
  {
   "cell_type": "markdown",
   "id": "8faa3630",
   "metadata": {},
   "source": [
    "## STGE-KB"
   ]
  },
  {
   "cell_type": "markdown",
   "id": "680024ad",
   "metadata": {},
   "source": [
    "In Koley and Bera (2024), robust versions are derived for the LM tests for $\\rho$ and $\\gamma$ in the spatial Durbin model. Again, the point of departure is\n",
    "an OLS regression of the classic non-spatial specification. They recommend the following strategy:\n",
    "- compute the joint $LM_{\\rho\\gamma}$ test for SDM: if the test is not significant, stick with the\n",
    "       non-spatial specification; if the null is rejected, move to the next step\n",
    "- compute the robust $LM_{\\rho}^*$ and $LM_{\\gamma}^*$ tests: if one is significant and the other is not, select\n",
    "that alternative; if both are significant, select SDM.\n",
    "\n",
    "Given the two out of three problem, these LM tests do not consider the SAR-Error model in the decision tree. As a result, the strategy cannot identify the Error, SAR-Error, SLX-Error and GNS alternatives."
   ]
  },
  {
   "cell_type": "markdown",
   "id": "e46d3ad6",
   "metadata": {},
   "source": [
    "This second strategy is invoked with `spsearch.stge_kb`. The required arguments and options are the same as for `stge_classic`."
   ]
  },
  {
   "cell_type": "code",
   "execution_count": 11,
   "id": "b0e27fd6",
   "metadata": {},
   "outputs": [
    {
     "name": "stdout",
     "output_type": "stream",
     "text": [
      "Model selected by STGE-KB: SLX\n",
      "REGRESSION RESULTS\n",
      "------------------\n",
      "\n",
      "SUMMARY OF OUTPUT: ORDINARY LEAST SQUARES WITH SPATIALLY LAGGED X (SLX)\n",
      "-----------------------------------------------------------------------\n",
      "Data set            :    Chi-SDOH\n",
      "Weights matrix      :  Chi-SDOH_q\n",
      "Dependent Variable  :   YPLL_rate                Number of Observations:         791\n",
      "Mean dependent var  :   5017.1325                Number of Variables   :           7\n",
      "S.D. dependent var  :   3161.3278                Degrees of Freedom    :         784\n",
      "R-squared           :      0.6420\n",
      "Adjusted R-squared  :      0.6392\n",
      "Sum squared residual: 2.82674e+09                F-statistic           :    234.2927\n",
      "Sigma-square        : 3605541.065                Prob(F-statistic)     :  4.384e-171\n",
      "S.E. of regression  :    1898.826                Log likelihood        :   -7090.117\n",
      "Sigma-square ML     : 3573633.622                Akaike info criterion :   14194.234\n",
      "S.E of regression ML:   1890.4057                Schwarz criterion     :   14226.947\n",
      "\n",
      "------------------------------------------------------------------------------------\n",
      "            Variable     Coefficient       Std.Error     t-Statistic     Probability\n",
      "------------------------------------------------------------------------------------\n",
      "            CONSTANT       291.73740       265.82221         1.09749         0.27276\n",
      "              Blk14P        56.02665         7.71047         7.26631         0.00000\n",
      "             Hisp14P        -1.91478         9.02056        -0.21227         0.83195\n",
      "              HIS_ct        36.29534        12.18888         2.97774         0.00299\n",
      "            W_Blk14P       -26.70041         9.01796        -2.96080         0.00316\n",
      "           W_Hisp14P       -27.92958        10.99350        -2.54055         0.01126\n",
      "            W_HIS_ct        74.72459        16.98242         4.40012         0.00001\n",
      "------------------------------------------------------------------------------------\n",
      "\n",
      "REGRESSION DIAGNOSTICS\n",
      "MULTICOLLINEARITY CONDITION NUMBER          32.494\n",
      "\n",
      "TEST ON NORMALITY OF ERRORS\n",
      "TEST                             DF        VALUE           PROB\n",
      "Jarque-Bera                       2      12596.639           0.0000\n",
      "\n",
      "DIAGNOSTICS FOR HETEROSKEDASTICITY\n",
      "RANDOM COEFFICIENTS\n",
      "TEST                             DF        VALUE           PROB\n",
      "Breusch-Pagan test                6        431.775           0.0000\n",
      "Koenker-Bassett test              6         41.076           0.0000\n",
      "\n",
      "DIAGNOSTICS FOR SPATIAL DEPENDENCE\n",
      "- SARERR -\n",
      "TEST                              DF       VALUE           PROB\n",
      "Lagrange Multiplier (lag)         1          4.257           0.0391\n",
      "Robust LM (lag)                   1          0.384           0.5353\n",
      "Lagrange Multiplier (error)       1          4.058           0.0440\n",
      "Robust LM (error)                 1          0.185           0.6668\n",
      "Lagrange Multiplier (SARMA)       2          4.443           0.1085\n",
      "================================ END OF REPORT =====================================\n"
     ]
    }
   ],
   "source": [
    "mod, finreg = spsearch.stge_kb(y,x,w=wq,\n",
    "                        name_ds=ds_name,name_w=w_name)"
   ]
  },
  {
   "cell_type": "markdown",
   "id": "2220425c",
   "metadata": {},
   "source": [
    "From the OLS diagnostics for Spatial Durbin in **reg2**, the joint LM test for SDM is highly significant. The next step is then to check the robust LM tests for WX and Lag. Of these, only the test for WX is significant at p=0.01. As a result, the model selected is the SLX model."
   ]
  },
  {
   "cell_type": "markdown",
   "id": "4724beae",
   "metadata": {},
   "source": [
    "### P-value"
   ]
  },
  {
   "cell_type": "markdown",
   "id": "91965c4a",
   "metadata": {},
   "source": [
    "From the regression diagnostics in **reg2**, it follows that the decision will be different if a more tolerant p-value of 0.05 is used. Since both robust tests are significant in that case, the chosen model is the Spatial Durbin model. However, in this case, the spatial autoregressive coefficient is not significant, and neither are all but one of the WX coefficients."
   ]
  },
  {
   "cell_type": "code",
   "execution_count": 12,
   "id": "a5b448e3",
   "metadata": {},
   "outputs": [
    {
     "name": "stdout",
     "output_type": "stream",
     "text": [
      "Model selected by STGE-KB: SDM\n",
      "REGRESSION RESULTS\n",
      "------------------\n",
      "\n",
      "SUMMARY OF OUTPUT: SPATIAL TWO STAGE LEAST SQUARES WITH SLX (SPATIAL DURBIN MODEL)\n",
      "----------------------------------------------------------------------------------\n",
      "Data set            :    Chi-SDOH\n",
      "Weights matrix      :  Chi-SDOH_q\n",
      "Dependent Variable  :   YPLL_rate                Number of Observations:         791\n",
      "Mean dependent var  :   5017.1325                Number of Variables   :           8\n",
      "S.D. dependent var  :   3161.3278                Degrees of Freedom    :         783\n",
      "Pseudo R-squared    :      0.6232\n",
      "Spatial Pseudo R-squared:  0.6405\n",
      "\n",
      "------------------------------------------------------------------------------------\n",
      "            Variable     Coefficient       Std.Error     z-Statistic     Probability\n",
      "------------------------------------------------------------------------------------\n",
      "            CONSTANT       -26.16491       339.30742        -0.07711         0.93853\n",
      "              Blk14P        56.75861         7.90329         7.18165         0.00000\n",
      "             Hisp14P         3.19381         9.78870         0.32628         0.74422\n",
      "              HIS_ct        27.97036        13.55603         2.06331         0.03908\n",
      "            W_Blk14P       -50.07543        17.53899        -2.85509         0.00430\n",
      "           W_Hisp14P       -12.10774        15.11490        -0.80105         0.42310\n",
      "            W_HIS_ct         4.56409        48.02319         0.09504         0.92428\n",
      "         W_YPLL_rate         0.74160         0.47321         1.56716         0.11708\n",
      "------------------------------------------------------------------------------------\n",
      "Instrumented: W_YPLL_rate\n",
      "Instruments: W2_Blk14P, W2_HIS_ct, W2_Hisp14P, W3_Blk14P, W3_HIS_ct,\n",
      "             W3_Hisp14P\n",
      "\n",
      "DIAGNOSTICS FOR SPATIAL DEPENDENCE\n",
      "TEST                              DF         VALUE           PROB\n",
      "Anselin-Kelejian Test             1          2.922           0.0874\n",
      "Common Factor Hypothesis Test     3          0.516           0.9155\n",
      "\n",
      "SPATIAL DURBIN MODEL IMPACTS\n",
      "Impacts computed using the 'simple' method.\n",
      "            Variable         Direct        Indirect          Total\n",
      "              Blk14P        56.7586        -30.8949         25.8638\n",
      "             Hisp14P         3.1938        -37.6905        -34.4967\n",
      "              HIS_ct        27.9704         97.9372        125.9076\n",
      "================================ END OF REPORT =====================================\n"
     ]
    }
   ],
   "source": [
    "mod, finreg = spsearch.stge_kb(y,x,w=wq,\n",
    "                        p_value = 0.05,\n",
    "                        name_ds=ds_name,name_w=w_name)"
   ]
  },
  {
   "cell_type": "markdown",
   "id": "52ed04cc",
   "metadata": {},
   "source": [
    "## STGE-Pre"
   ]
  },
  {
   "cell_type": "markdown",
   "id": "f9cf4833",
   "metadata": {},
   "source": [
    "Neither the STGE-Classic nor the STGE-KB strategies consider the full array of spatial\n",
    "model alternatives. A third forward strategy accomplishes this by means of a pre-test. The starting point\n",
    "is again an OLS estimation of the classic non-spatial regression model. Based on the Koley-Bera $LM_{\\gamma}$\n",
    "and $LM_{\\gamma}^*$ tests on the SLX parameters, a decision is made whether or not to include\n",
    "$WX$ in the estimation. If the null is not rejected, the initial estimates are used and the STGE-Classic strategy is followed. If the null is rejected, the model is re-estimated as an SLX specification and the\n",
    "STGE-Classic strategy is applied to these results (an SLX specification is also estimated by OLS, so the STGE-Classic strategy is appropriate).\n",
    "\n",
    "This yields the full array of alternatives:\n",
    "- from the original regression: OLS, Lag, Error and SAR-Error\n",
    "- from the SLX estimation: SLX, SDM, SLX-Error and GNS.\n"
   ]
  },
  {
   "cell_type": "markdown",
   "id": "4488160b",
   "metadata": {},
   "source": [
    "The STGE-Pre strategy is invoked with `spsearch.stge_pre`. The required arguments and options are again the same."
   ]
  },
  {
   "cell_type": "code",
   "execution_count": 13,
   "id": "02590aff",
   "metadata": {},
   "outputs": [
    {
     "name": "stdout",
     "output_type": "stream",
     "text": [
      "Model selected by STGE-Pre: SLX\n",
      "REGRESSION RESULTS\n",
      "------------------\n",
      "\n",
      "SUMMARY OF OUTPUT: ORDINARY LEAST SQUARES WITH SPATIALLY LAGGED X (SLX)\n",
      "-----------------------------------------------------------------------\n",
      "Data set            :    Chi-SDOH\n",
      "Weights matrix      :  Chi-SDOH_q\n",
      "Dependent Variable  :   YPLL_rate                Number of Observations:         791\n",
      "Mean dependent var  :   5017.1325                Number of Variables   :           7\n",
      "S.D. dependent var  :   3161.3278                Degrees of Freedom    :         784\n",
      "R-squared           :      0.6420\n",
      "Adjusted R-squared  :      0.6392\n",
      "Sum squared residual: 2.82674e+09                F-statistic           :    234.2927\n",
      "Sigma-square        : 3605541.065                Prob(F-statistic)     :  4.384e-171\n",
      "S.E. of regression  :    1898.826                Log likelihood        :   -7090.117\n",
      "Sigma-square ML     : 3573633.622                Akaike info criterion :   14194.234\n",
      "S.E of regression ML:   1890.4057                Schwarz criterion     :   14226.947\n",
      "\n",
      "------------------------------------------------------------------------------------\n",
      "            Variable     Coefficient       Std.Error     t-Statistic     Probability\n",
      "------------------------------------------------------------------------------------\n",
      "            CONSTANT       291.73740       265.82221         1.09749         0.27276\n",
      "              Blk14P        56.02665         7.71047         7.26631         0.00000\n",
      "             Hisp14P        -1.91478         9.02056        -0.21227         0.83195\n",
      "              HIS_ct        36.29534        12.18888         2.97774         0.00299\n",
      "            W_Blk14P       -26.70041         9.01796        -2.96080         0.00316\n",
      "           W_Hisp14P       -27.92958        10.99350        -2.54055         0.01126\n",
      "            W_HIS_ct        74.72459        16.98242         4.40012         0.00001\n",
      "------------------------------------------------------------------------------------\n",
      "\n",
      "REGRESSION DIAGNOSTICS\n",
      "MULTICOLLINEARITY CONDITION NUMBER          32.494\n",
      "\n",
      "TEST ON NORMALITY OF ERRORS\n",
      "TEST                             DF        VALUE           PROB\n",
      "Jarque-Bera                       2      12596.639           0.0000\n",
      "\n",
      "DIAGNOSTICS FOR HETEROSKEDASTICITY\n",
      "RANDOM COEFFICIENTS\n",
      "TEST                             DF        VALUE           PROB\n",
      "Breusch-Pagan test                6        431.775           0.0000\n",
      "Koenker-Bassett test              6         41.076           0.0000\n",
      "\n",
      "DIAGNOSTICS FOR SPATIAL DEPENDENCE\n",
      "- SARERR -\n",
      "TEST                              DF       VALUE           PROB\n",
      "Lagrange Multiplier (lag)         1          4.257           0.0391\n",
      "Robust LM (lag)                   1          0.384           0.5353\n",
      "Lagrange Multiplier (error)       1          4.058           0.0440\n",
      "Robust LM (error)                 1          0.185           0.6668\n",
      "Lagrange Multiplier (SARMA)       2          4.443           0.1085\n",
      "================================ END OF REPORT =====================================\n"
     ]
    }
   ],
   "source": [
    "mod, finreg = spsearch.stge_pre(y,x,w=wq,\n",
    "                        name_ds=ds_name,name_w=w_name)"
   ]
  },
  {
   "cell_type": "markdown",
   "id": "da43a935",
   "metadata": {},
   "source": [
    "Starting with the LM results for Spatial Durbin in the OLS regression (**reg2**), both the LM test for WX and its robust form are significant at p=0.01. Therefore, the next step is the SLX regression. The diagnostics for the SLX regression obtained for p=0.01 with STGE-KB show that none of the LM tests are significant at p=0.01. Therefore, the selected model is SLX."
   ]
  },
  {
   "cell_type": "markdown",
   "id": "f66817ff",
   "metadata": {},
   "source": [
    "### P-value"
   ]
  },
  {
   "cell_type": "markdown",
   "id": "0d078fc7",
   "metadata": {},
   "source": [
    "With a p-value of 0.05, the decision path changes. Since both LM tests for WX were significant at p=0.01, they obviously will also be significant at p=0.05, so the next step is again the SLX estimation. However, now both LM-Lag and LM-Error tests are significant at p=0.05 in the SLX model. Neither of the robust forms are, but the LAG test is larger than the Error test, hence LAG is selected as the alternative (the LAG_Nr path in the classic strategy). Since this pertains to an SLX specification, the result is a Spatial Durbin model."
   ]
  },
  {
   "cell_type": "code",
   "execution_count": 14,
   "id": "4d12e036",
   "metadata": {},
   "outputs": [
    {
     "name": "stdout",
     "output_type": "stream",
     "text": [
      "Model selected by STGE-Pre: SDM\n",
      "REGRESSION RESULTS\n",
      "------------------\n",
      "\n",
      "SUMMARY OF OUTPUT: SPATIAL TWO STAGE LEAST SQUARES WITH SLX (SPATIAL DURBIN MODEL)\n",
      "----------------------------------------------------------------------------------\n",
      "Data set            :    Chi-SDOH\n",
      "Weights matrix      :  Chi-SDOH_q\n",
      "Dependent Variable  :   YPLL_rate                Number of Observations:         791\n",
      "Mean dependent var  :   5017.1325                Number of Variables   :           8\n",
      "S.D. dependent var  :   3161.3278                Degrees of Freedom    :         783\n",
      "Pseudo R-squared    :      0.6232\n",
      "Spatial Pseudo R-squared:  0.6405\n",
      "\n",
      "------------------------------------------------------------------------------------\n",
      "            Variable     Coefficient       Std.Error     z-Statistic     Probability\n",
      "------------------------------------------------------------------------------------\n",
      "            CONSTANT       -26.16491       339.30742        -0.07711         0.93853\n",
      "              Blk14P        56.75861         7.90329         7.18165         0.00000\n",
      "             Hisp14P         3.19381         9.78870         0.32628         0.74422\n",
      "              HIS_ct        27.97036        13.55603         2.06331         0.03908\n",
      "            W_Blk14P       -50.07543        17.53899        -2.85509         0.00430\n",
      "           W_Hisp14P       -12.10774        15.11490        -0.80105         0.42310\n",
      "            W_HIS_ct         4.56409        48.02319         0.09504         0.92428\n",
      "         W_YPLL_rate         0.74160         0.47321         1.56716         0.11708\n",
      "------------------------------------------------------------------------------------\n",
      "Instrumented: W_YPLL_rate\n",
      "Instruments: W2_Blk14P, W2_HIS_ct, W2_Hisp14P, W3_Blk14P, W3_HIS_ct,\n",
      "             W3_Hisp14P\n",
      "\n",
      "DIAGNOSTICS FOR SPATIAL DEPENDENCE\n",
      "TEST                              DF         VALUE           PROB\n",
      "Anselin-Kelejian Test             1          2.922           0.0874\n",
      "Common Factor Hypothesis Test     3          0.516           0.9155\n",
      "\n",
      "SPATIAL DURBIN MODEL IMPACTS\n",
      "Impacts computed using the 'simple' method.\n",
      "            Variable         Direct        Indirect          Total\n",
      "              Blk14P        56.7586        -30.8949         25.8638\n",
      "             Hisp14P         3.1938        -37.6905        -34.4967\n",
      "              HIS_ct        27.9704         97.9372        125.9076\n",
      "================================ END OF REPORT =====================================\n"
     ]
    }
   ],
   "source": [
    "mod, finreg = spsearch.stge_pre(y,x,w=wq,\n",
    "                        p_value = 0.05,\n",
    "                        name_ds=ds_name,name_w=w_name)"
   ]
  },
  {
   "cell_type": "markdown",
   "id": "85f9df3c",
   "metadata": {},
   "source": [
    "## GETS-GNS"
   ]
  },
  {
   "cell_type": "markdown",
   "id": "7e66375e",
   "metadata": {},
   "source": [
    "The point of departure in the GETS-GNS strategy is the estimation of a full GNS model. Next, the significance of the individual coefficients is assessed. When one or more coefficients are not significant,\n",
    "the simplified model (with zero restrictions imposed) is estimated and the process is repeated. All estimations\n",
    "use IV-GMM methods.\n",
    "\n",
    "One additional step is carried out when the selected model turns out to be SDM. In that case, the common\n",
    "factor hypothesis is tested. If the latter is not rejected, then the selected model is the Error model rather than\n",
    "the unrestricted SDM.\n",
    "\n",
    "This strategy is included in `spsearch` only for the sake of completeness. As the simulation results in Anselin, Serenini and Amaral (2024) show, it is generally unreliable and very often yields parameter estimates outside the acceptable range. In `spreg`, the parameter space is enforced with the `hard_bound = True` option. This option cannot be relaxed here since a model that yields unacceptable parameter estimates should not be considered a valid specification."
   ]
  },
  {
   "cell_type": "markdown",
   "id": "028008a2",
   "metadata": {},
   "source": [
    "The GETS-GNS strategy is invoked with `spsearch.gets_gns`. The required arguments and options are again the same."
   ]
  },
  {
   "cell_type": "code",
   "execution_count": 15,
   "id": "63d64111",
   "metadata": {},
   "outputs": [
    {
     "name": "stdout",
     "output_type": "stream",
     "text": [
      "Exception: GNS parameters out of bounds\n"
     ]
    }
   ],
   "source": [
    "mod, finreg = spsearch.gets_gns(y,x,w=wq,\n",
    "                        name_ds=ds_name,name_w=w_name)"
   ]
  },
  {
   "cell_type": "markdown",
   "id": "fab14523",
   "metadata": {},
   "source": [
    "In this example, the GNS model is not a valid point of departure. As mentioned, this strategy is generally unreliable and not recommended for empirical practice."
   ]
  },
  {
   "cell_type": "markdown",
   "id": "833c067a",
   "metadata": {},
   "source": [
    "## GETS-SDM"
   ]
  },
  {
   "cell_type": "markdown",
   "id": "2475a565",
   "metadata": {},
   "source": [
    "The GETS-SDM strategy is a hybrid that contains aspects of both General-to-Specific (GETS) and Specific-to-General (STGE) approaches. In contrast to GETS-GNS, the point of\n",
    "departure is not the GNS specification, but instead an SDM model is used. If both $\\rho$ and $\\gamma$ coefficients are significant, then\n",
    "a common factor test is carried to assess whether the alternative may be an Error model. If the common factor null hypothesis cannot\n",
    "be rejected, then the model is Error. In the other case, the SDM specification is kept and\n",
    "an AK test is carried out on remaining error autocorrelation. If the\n",
    "null is rejected, then the alternative is GNS, if not, then it remains SDM.\n",
    "\n",
    "If neither of the coefficients in the SDM model are significant, then the LM-Error tests are used in an OLS regression\n",
    "of the model without $Wy$ and $WX$ terms, allowing both OLS and Error alternatives. If $\\rho$ is significant and $\\gamma$ is not,\n",
    "then an AK test is carried out, yielding either SAR-Error or Lag as the alternatives. In the reverse case, with $\\gamma$ significant\n",
    "and $\\rho$ not, then the LM Error tests are used to choose between the SLX and SLX-Error alternatives.\n",
    "\n",
    "This approach allows the full array of spatial alternatives to be considered."
   ]
  },
  {
   "cell_type": "markdown",
   "id": "38ed218e",
   "metadata": {},
   "source": [
    "The GETS-SDM strategy is invoked with `spsearch.gets_sdm`. The required arguments and options are again the same."
   ]
  },
  {
   "cell_type": "code",
   "execution_count": 16,
   "id": "062bb2c0",
   "metadata": {},
   "outputs": [
    {
     "name": "stdout",
     "output_type": "stream",
     "text": [
      "Model selected by GETS-SDM: LAG\n",
      "REGRESSION RESULTS\n",
      "------------------\n",
      "\n",
      "SUMMARY OF OUTPUT: SPATIAL TWO STAGE LEAST SQUARES\n",
      "--------------------------------------------------\n",
      "Data set            :    Chi-SDOH\n",
      "Weights matrix      :  Chi-SDOH_q\n",
      "Dependent Variable  :   YPLL_rate                Number of Observations:         791\n",
      "Mean dependent var  :   5017.1325                Number of Variables   :           5\n",
      "S.D. dependent var  :   3161.3278                Degrees of Freedom    :         786\n",
      "Pseudo R-squared    :      0.6374\n",
      "Spatial Pseudo R-squared:  0.6334\n",
      "\n",
      "------------------------------------------------------------------------------------\n",
      "            Variable     Coefficient       Std.Error     z-Statistic     Probability\n",
      "------------------------------------------------------------------------------------\n",
      "            CONSTANT       676.18274       253.42997         2.66812         0.00763\n",
      "              Blk14P        34.93664         5.01195         6.97067         0.00000\n",
      "             Hisp14P       -13.23575         4.45038        -2.97407         0.00294\n",
      "              HIS_ct        62.74434        10.22708         6.13512         0.00000\n",
      "         W_YPLL_rate         0.17663         0.08945         1.97453         0.04832\n",
      "------------------------------------------------------------------------------------\n",
      "Instrumented: W_YPLL_rate\n",
      "Instruments: W2_Blk14P, W2_HIS_ct, W2_Hisp14P, W_Blk14P, W_HIS_ct, W_Hisp14P\n",
      "\n",
      "DIAGNOSTICS FOR SPATIAL DEPENDENCE\n",
      "TEST                              DF         VALUE           PROB\n",
      "Anselin-Kelejian Test             1          0.306           0.5804\n",
      "\n",
      "SPATIAL LAG MODEL IMPACTS\n",
      "Impacts computed using the 'simple' method.\n",
      "            Variable         Direct        Indirect          Total\n",
      "              Blk14P        34.9366          7.4945         42.4312\n",
      "             Hisp14P       -13.2357         -2.8393        -16.0750\n",
      "              HIS_ct        62.7443         13.4598         76.2041\n",
      "================================ END OF REPORT =====================================\n"
     ]
    }
   ],
   "source": [
    "mod, finreg = spsearch.gets_sdm(y,x,w=wq,\n",
    "                        name_ds=ds_name,name_w=w_name)"
   ]
  },
  {
   "cell_type": "markdown",
   "id": "1ef2dc6c",
   "metadata": {},
   "source": [
    "The point of departure is the SDM model, which is shown in the output of the STGE-Pre strategy. The next step is based on the least significant spatial parameter. If that is the spatial autoregressive coefficient, then the next step is SLX. However, in the current example, two of the WX parameters are less significant than the spatial autoregressive coefficient, and in that case the next step is the LAG model. The motivation is that the consequences of ignoring a lag term are more severe than ignoring an SLX specification. The AK test in the lag model does not reveal remaining autocorrelation, so the recommendation is the LAG specification. The results are not affected by setting p=0.05."
   ]
  },
  {
   "cell_type": "markdown",
   "id": "4862431e",
   "metadata": {},
   "source": [
    "## Overall Assessment"
   ]
  },
  {
   "cell_type": "markdown",
   "id": "741a4129",
   "metadata": {},
   "source": [
    "The results of the simulation results in Anselin, Serenini and Amaral (2024) point to the crucial role played by the $WX$ terms. When only classic models are considered (specifically,\n",
    "no spatial Durbin), the augmented STGE-Classic strategy is superior to all and provides reliable guidance as to the proper alternative. \n",
    "In contrast, when $WX$ is part of the true DGP, this is no longer the case. Both STGE-Classic, which does not consider SDM as a DGP, and \n",
    "STGE-KB, which does, but ignores spatial errors, fall short. Of the three strategies that take into account SDM, STGE-Pre is clearly superior. In addition, it also\n",
    "performs well in the classic setting, although not quite as well as STGE-Classic.\n",
    "\n",
    "GETS-SDM\n",
    "does well in some settings, but not reliably. GETS-GNS yields unreliable results and should be avoided as a strategy. \n",
    "\n",
    "While these search strategies provide an easy way to asses which spatial model may be relevant in a given empirical situation, nothing is a replacement of an explicit and careful model specification based on substantive considerations. Also, other misspecifications, such as endogeneity, heteroskedasticity and nonlinearity may affect the indications provided by the test diagnostics."
   ]
  },
  {
   "cell_type": "markdown",
   "id": "65aadbff",
   "metadata": {},
   "source": [
    "## Practice\n",
    "\n",
    "At this point, it would most effective if you could continue with your baseline regression, assess which of the spatial alternatives may be most relevant and compare the recommendations given by the different strategies. Also, consider changing your base model specification and investigate the sensitivity of the search recommendations."
   ]
  }
 ],
 "metadata": {
  "kernelspec": {
   "display_name": "py312",
   "language": "python",
   "name": "python3"
  },
  "language_info": {
   "codemirror_mode": {
    "name": "ipython",
    "version": 3
   },
   "file_extension": ".py",
   "mimetype": "text/x-python",
   "name": "python",
   "nbconvert_exporter": "python",
   "pygments_lexer": "ipython3",
   "version": "3.12.4"
  }
 },
 "nbformat": 4,
 "nbformat_minor": 5
}
